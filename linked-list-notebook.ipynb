{
 "cells": [
  {
   "cell_type": "markdown",
   "id": "20a234c9",
   "metadata": {},
   "source": [
    "### Creating a Node Class"
   ]
  },
  {
   "cell_type": "code",
   "execution_count": 1,
   "id": "c061dad3",
   "metadata": {},
   "outputs": [],
   "source": [
    "class Node:\n",
    "    def __init__(self, data= None):\n",
    "        self.data = data\n",
    "        self.next = None\n",
    "class LinkedList:\n",
    "    def __init__(self):\n",
    "        self.head = None\n",
    "    \n",
    "    def append(self, value):\n",
    "        new_node = Node(value)\n",
    "        \n",
    "        if self.head == None:\n",
    "            self.head = new_node\n",
    "        else:\n",
    "            current = self.head\n",
    "            while current.next != None:\n",
    "                current = current.next\n",
    "            current.next = new_node\n",
    "            \n",
    "    def display(self):\n",
    "        current = self.head\n",
    "        while current.next != None:\n",
    "            print(current.data, end = '-->')\n",
    "            current = current.next\n",
    "        print(current.next)"
   ]
  },
  {
   "cell_type": "markdown",
   "id": "f1960d2c",
   "metadata": {},
   "source": [
    "### Example Implementation"
   ]
  },
  {
   "cell_type": "code",
   "execution_count": 2,
   "id": "e98fe848",
   "metadata": {},
   "outputs": [
    {
     "name": "stdout",
     "output_type": "stream",
     "text": [
      "1-->3-->5-->7-->None\n"
     ]
    }
   ],
   "source": [
    "my_list = LinkedList()\n",
    "\n",
    "my_list.append(1)\n",
    "my_list.append(3)\n",
    "my_list.append(5)\n",
    "my_list.append(7)\n",
    "my_list.append(9)\n",
    "\n",
    "my_list.display()"
   ]
  },
  {
   "cell_type": "code",
   "execution_count": null,
   "id": "bd191721",
   "metadata": {},
   "outputs": [],
   "source": []
  }
 ],
 "metadata": {
  "kernelspec": {
   "display_name": "Python 3 (ipykernel)",
   "language": "python",
   "name": "python3"
  },
  "language_info": {
   "codemirror_mode": {
    "name": "ipython",
    "version": 3
   },
   "file_extension": ".py",
   "mimetype": "text/x-python",
   "name": "python",
   "nbconvert_exporter": "python",
   "pygments_lexer": "ipython3",
   "version": "3.10.9"
  }
 },
 "nbformat": 4,
 "nbformat_minor": 5
}

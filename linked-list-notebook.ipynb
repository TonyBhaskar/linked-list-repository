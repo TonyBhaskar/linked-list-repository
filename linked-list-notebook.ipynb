{
 "cells": [
  {
   "cell_type": "markdown",
   "id": "20a234c9",
   "metadata": {},
   "source": [
    "### Creating a Node Class"
   ]
  },
  {
   "cell_type": "code",
   "execution_count": 3,
   "id": "c061dad3",
   "metadata": {},
   "outputs": [],
   "source": [
    "class Node:\n",
    "    def __init__(self, data= None):\n",
    "        self.data = data\n",
    "        self.next = None\n",
    "class LinkedList:\n",
    "    def __init__(self):\n",
    "        self.head = None\n",
    "    \n",
    "    def append(self, value):\n",
    "        new_node = Node(value)\n",
    "        \n",
    "        if self.head == None:\n",
    "            self.head = new_node\n",
    "        else:\n",
    "            current = self.head\n",
    "            while current.next != None:\n",
    "                current = current.next\n",
    "            current.next = new_node"
   ]
  },
  {
   "cell_type": "markdown",
   "id": "c3478047",
   "metadata": {},
   "source": [
    "### Example Implementation"
   ]
  },
  {
   "cell_type": "code",
   "execution_count": 4,
   "id": "c680bfdd",
   "metadata": {},
   "outputs": [],
   "source": [
    "my_list = LinkedList()\n",
    "\n",
    "my_list.append(1)\n",
    "my_list.append(3)\n",
    "my_list.append(5)\n",
    "my_list.append(7)\n",
    "my_list.append(9)"
   ]
  },
  {
   "cell_type": "code",
   "execution_count": null,
   "id": "d5c089a7",
   "metadata": {},
   "outputs": [],
   "source": []
  }
 ],
 "metadata": {
  "kernelspec": {
   "display_name": "Python 3 (ipykernel)",
   "language": "python",
   "name": "python3"
  },
  "language_info": {
   "codemirror_mode": {
    "name": "ipython",
    "version": 3
   },
   "file_extension": ".py",
   "mimetype": "text/x-python",
   "name": "python",
   "nbconvert_exporter": "python",
   "pygments_lexer": "ipython3",
   "version": "3.10.9"
  }
 },
 "nbformat": 4,
 "nbformat_minor": 5
}
